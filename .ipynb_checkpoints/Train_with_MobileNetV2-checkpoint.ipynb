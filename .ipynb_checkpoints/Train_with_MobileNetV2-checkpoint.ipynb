{
 "cells": [
  {
   "cell_type": "code",
   "execution_count": 24,
   "id": "4ddb1071",
   "metadata": {},
   "outputs": [],
   "source": [
    "from tensorflow.keras.preprocessing.image import ImageDataGenerator\n",
    "from tensorflow.keras.applications import MobileNetV2\n",
    "from tensorflow.keras.preprocessing import image\n",
    "from tensorflow.keras.layers import Input\n",
    "from tensorflow import keras\n",
    "from tensorflow.keras import layers\n",
    "from tensorflow.keras.optimizers import Adam\n",
    "from tensorflow.keras.layers import AveragePooling2D\n",
    "from tensorflow.keras.layers import Dropout\n",
    "from tensorflow.keras.layers import Flatten\n",
    "from tensorflow.keras.layers import Dense\n",
    "from tensorflow.keras.layers import Input\n",
    "from tensorflow.keras.models import Model\n",
    "import tensorflow_hub as hub\n",
    "import matplotlib.pyplot as plt\n",
    "import tensorflow as tf\n",
    "import numpy as np\n",
    "import cv2\n",
    "import os"
   ]
  },
  {
   "cell_type": "code",
   "execution_count": 4,
   "id": "3a7013b2",
   "metadata": {},
   "outputs": [],
   "source": [
    "train =ImageDataGenerator(rescale=1/255)\n",
    "validation =ImageDataGenerator(rescale=1/255)"
   ]
  },
  {
   "cell_type": "code",
   "execution_count": 5,
   "id": "a57475b6",
   "metadata": {},
   "outputs": [
    {
     "name": "stdout",
     "output_type": "stream",
     "text": [
      "Found 11180 images belonging to 5 classes.\n",
      "Found 1519 images belonging to 5 classes.\n"
     ]
    }
   ],
   "source": [
    "train_dataset =train.flow_from_directory(\"Dataset\\\\train\\\\\",\n",
    "                                         target_size=(224,224)\n",
    "                                         ,batch_size=32,\n",
    "                                        class_mode='categorical')\n",
    "Validation_dataset =validation.flow_from_directory(\"Dataset\\\\test\\\\\",\n",
    "                                         target_size=(224,224)\n",
    "                                         ,batch_size=32,\n",
    "                                        class_mode='categorical')"
   ]
  },
  {
   "cell_type": "code",
   "execution_count": 6,
   "id": "2a384953",
   "metadata": {},
   "outputs": [],
   "source": [
    "mobilenet_v2 = \"https://tfhub.dev/google/tf2-preview/mobilenet_v2/feature_vector/4\""
   ]
  },
  {
   "cell_type": "code",
   "execution_count": 7,
   "id": "b6de0776",
   "metadata": {},
   "outputs": [],
   "source": [
    "mobile_net_layers = hub.KerasLayer(mobilenet_v2, input_shape=(224,224,3))"
   ]
  },
  {
   "cell_type": "code",
   "execution_count": 8,
   "id": "0de6b829",
   "metadata": {},
   "outputs": [],
   "source": [
    "mobile_net_layers.trainable = False"
   ]
  },
  {
   "cell_type": "code",
   "execution_count": 26,
   "id": "4b4e2809",
   "metadata": {},
   "outputs": [],
   "source": [
    "data_augmentation = keras.Sequential(\n",
    "  [\n",
    "    layers.RandomFlip(\"horizontal\",\n",
    "                      input_shape=(220,\n",
    "                                  220,\n",
    "                                  3)),\n",
    "    layers.RandomRotation(0.1),\n",
    "    layers.RandomZoom(0.1),\n",
    "  ]\n",
    ")"
   ]
  },
  {
   "cell_type": "code",
   "execution_count": 35,
   "id": "72300858",
   "metadata": {},
   "outputs": [],
   "source": [
    "neural_net = tf.keras.Sequential([\n",
    "  \n",
    "    mobile_net_layers,\n",
    "                              \n",
    "                                 \n",
    "  tf.keras.layers.Dropout(0.3),\n",
    "  tf.keras.layers.Dense(5,activation='softmax')\n",
    "])"
   ]
  },
  {
   "cell_type": "code",
   "execution_count": 31,
   "id": "196bd179",
   "metadata": {},
   "outputs": [
    {
     "name": "stdout",
     "output_type": "stream",
     "text": [
      "Model: \"sequential_5\"\n",
      "_________________________________________________________________\n",
      " Layer (type)                Output Shape              Param #   \n",
      "=================================================================\n",
      " keras_layer (KerasLayer)    (None, 1280)              2257984   \n",
      "                                                                 \n",
      " sequential_1 (Sequential)   (None, 220, 220, 3)       0         \n",
      "                                                                 \n",
      " dropout_4 (Dropout)         (None, 1280)              0         \n",
      "                                                                 \n",
      " dense_4 (Dense)             (None, 5)                 6405      \n",
      "                                                                 \n",
      "=================================================================\n",
      "Total params: 2,264,389\n",
      "Trainable params: 6,405\n",
      "Non-trainable params: 2,257,984\n",
      "_________________________________________________________________\n"
     ]
    }
   ],
   "source": [
    "neural_net.summary()"
   ]
  },
  {
   "cell_type": "code",
   "execution_count": 36,
   "id": "7b8ddb99",
   "metadata": {},
   "outputs": [],
   "source": [
    "neural_net.compile(optimizer=tf.keras.optimizers.RMSprop(learning_rate=0.001),\n",
    "              loss='categorical_crossentropy',metrics=['accuracy'])"
   ]
  },
  {
   "cell_type": "code",
   "execution_count": 37,
   "id": "ce2b5ce2",
   "metadata": {
    "scrolled": true
   },
   "outputs": [
    {
     "name": "stdout",
     "output_type": "stream",
     "text": [
      "Epoch 1/10\n",
      "350/350 [==============================] - 329s 932ms/step - loss: 0.3302 - accuracy: 0.8720 - val_loss: 1.4691 - val_accuracy: 0.6899\n",
      "Epoch 2/10\n",
      "350/350 [==============================] - 324s 927ms/step - loss: 0.1934 - accuracy: 0.9257 - val_loss: 1.4435 - val_accuracy: 0.7051\n",
      "Epoch 3/10\n",
      "350/350 [==============================] - 334s 954ms/step - loss: 0.1596 - accuracy: 0.9383 - val_loss: 1.3693 - val_accuracy: 0.7261\n",
      "Epoch 4/10\n",
      "350/350 [==============================] - 325s 927ms/step - loss: 0.1525 - accuracy: 0.9438 - val_loss: 1.5695 - val_accuracy: 0.7143\n",
      "Epoch 5/10\n",
      "350/350 [==============================] - 324s 926ms/step - loss: 0.1480 - accuracy: 0.9441 - val_loss: 1.7684 - val_accuracy: 0.7255\n",
      "Epoch 6/10\n",
      "350/350 [==============================] - 325s 930ms/step - loss: 0.1409 - accuracy: 0.9462 - val_loss: 1.8446 - val_accuracy: 0.7163\n",
      "Epoch 7/10\n",
      "350/350 [==============================] - 325s 928ms/step - loss: 0.1340 - accuracy: 0.9519 - val_loss: 1.7340 - val_accuracy: 0.7314\n",
      "Epoch 8/10\n",
      "350/350 [==============================] - 323s 923ms/step - loss: 0.1361 - accuracy: 0.9504 - val_loss: 1.9226 - val_accuracy: 0.7288\n",
      "Epoch 9/10\n",
      "350/350 [==============================] - 325s 930ms/step - loss: 0.1269 - accuracy: 0.9504 - val_loss: 1.8593 - val_accuracy: 0.7400\n",
      "Epoch 10/10\n",
      "350/350 [==============================] - 300s 858ms/step - loss: 0.1262 - accuracy: 0.9520 - val_loss: 1.6953 - val_accuracy: 0.7459\n"
     ]
    }
   ],
   "source": [
    "model_fit=neural_net.fit(\n",
    "    train_dataset,\n",
    "    validation_data=Validation_dataset,\n",
    "    epochs=10)"
   ]
  },
  {
   "cell_type": "code",
   "execution_count": 38,
   "id": "eb7ad8de",
   "metadata": {},
   "outputs": [
    {
     "data": {
      "image/png": "[encoded data removed]",
      "text/plain": [
       "<Figure size 576x576 with 2 Axes>"
      ]
     },
     "metadata": {
      "needs_background": "light"
     },
     "output_type": "display_data"
    }
   ],
   "source": [
    "acc = model_fit.history['accuracy']\n",
    "val_acc = model_fit.history['val_accuracy']\n",
    "\n",
    "loss = model_fit.history['loss']\n",
    "val_loss = model_fit.history['val_loss']\n",
    "\n",
    "epochs_range = range(10)\n",
    "\n",
    "plt.figure(figsize=(8, 8))\n",
    "plt.subplot(1, 2, 1)\n",
    "plt.plot(epochs_range, acc, label='Training Accuracy')\n",
    "plt.plot(epochs_range, val_acc, label='Validation Accuracy')\n",
    "plt.legend(loc='lower right')\n",
    "plt.title('Training and Validation Accuracy')\n",
    "\n",
    "plt.subplot(1, 2, 2)\n",
    "plt.plot(epochs_range, loss, label='Training Loss')\n",
    "plt.plot(epochs_range, val_loss, label='Validation Loss')\n",
    "plt.legend(loc='upper right')\n",
    "plt.title('Training and Validation Loss')\n",
    "plt.show()"
   ]
  },
  {
   "cell_type": "code",
   "execution_count": 11,
   "id": "57801311",
   "metadata": {},
   "outputs": [
    {
     "name": "stdout",
     "output_type": "stream",
     "text": [
      "[INFO] saving mask detector model...\n"
     ]
    }
   ],
   "source": [
    "print(\"[INFO] saving mask detector model...\")\n",
    "neural_net.save(\"mask_MobileNet_detector.model\", save_format=\"h5\")"
   ]
  },
  {
   "cell_type": "code",
   "execution_count": null,
   "id": "6aaa8f36",
   "metadata": {},
   "outputs": [],
   "source": []
  },
  {
   "cell_type": "code",
   "execution_count": null,
   "id": "7c191037",
   "metadata": {},
   "outputs": [],
   "source": []
  }
 ],
 "metadata": {
  "kernelspec": {
   "display_name": "Python 3 (ipykernel)",
   "language": "python",
   "name": "python3"
  },
  "language_info": {
   "codemirror_mode": {
    "name": "ipython",
    "version": 3
   },
   "file_extension": ".py",
   "mimetype": "text/x-python",
   "name": "python",
   "nbconvert_exporter": "python",
   "pygments_lexer": "ipython3",
   "version": "3.9.12"
  }
 },
 "nbformat": 4,
 "nbformat_minor": 5
}
